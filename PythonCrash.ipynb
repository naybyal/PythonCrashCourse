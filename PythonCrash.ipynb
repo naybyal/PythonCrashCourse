{
  "nbformat": 4,
  "nbformat_minor": 0,
  "metadata": {
    "colab": {
      "provenance": [],
      "gpuType": "T4",
      "authorship_tag": "ABX9TyN5+2CSW+Ez4RajA8RBi5Ih",
      "include_colab_link": true
    },
    "kernelspec": {
      "name": "python3",
      "display_name": "Python 3"
    },
    "language_info": {
      "name": "python"
    }
  },
  "cells": [
    {
      "cell_type": "markdown",
      "metadata": {
        "id": "view-in-github",
        "colab_type": "text"
      },
      "source": [
        "<a href=\"https://colab.research.google.com/github/naybyal/PythonCrashCourse/blob/main/PythonCrash.ipynb\" target=\"_parent\"><img src=\"https://colab.research.google.com/assets/colab-badge.svg\" alt=\"Open In Colab\"/></a>"
      ]
    },
    {
      "cell_type": "code",
      "execution_count": null,
      "metadata": {
        "colab": {
          "base_uri": "https://localhost:8080/"
        },
        "id": "BXi9QMUNZBH-",
        "outputId": "dfc56466-009c-4a19-efc7-0d61faac10ff"
      },
      "outputs": [
        {
          "output_type": "stream",
          "name": "stdout",
          "text": [
            "\n",
            "Here is a list of the Python keywords.  Enter any keyword to get more help.\n",
            "\n",
            "False               class               from                or\n",
            "None                continue            global              pass\n",
            "True                def                 if                  raise\n",
            "and                 del                 import              return\n",
            "as                  elif                in                  try\n",
            "assert              else                is                  while\n",
            "async               except              lambda              with\n",
            "await               finally             nonlocal            yield\n",
            "break               for                 not                 \n",
            "\n"
          ]
        }
      ],
      "source": [
        "help(\"keywords\")"
      ]
    },
    {
      "cell_type": "code",
      "source": [
        "firstName = \"ada\"\n",
        "lastName = \"lovelace\"\n",
        "fullName = f\"{firstName}\\n{lastName}\"\n",
        "print(fullName.title())"
      ],
      "metadata": {
        "colab": {
          "base_uri": "https://localhost:8080/"
        },
        "id": "AmHjLCq5ZQ2k",
        "outputId": "96459447-32a4-4ab3-8b81-ef40cacb1242"
      },
      "execution_count": null,
      "outputs": [
        {
          "output_type": "stream",
          "name": "stdout",
          "text": [
            "Ada\n",
            "Lovelace\n"
          ]
        }
      ]
    },
    {
      "cell_type": "markdown",
      "source": [
        "stripping whitespace"
      ],
      "metadata": {
        "id": "T4CPq7bDd-50"
      }
    },
    {
      "cell_type": "code",
      "source": [
        "favoriteLanguage = \" java \"\n",
        "print(type(favoriteLanguage))\n",
        "# favoriteLanguage.rstrip()\n",
        "# favoriteLanguage.lstrip().rstrip()\n",
        "# this is similar to\n",
        "favoriteLanguage.strip()"
      ],
      "metadata": {
        "colab": {
          "base_uri": "https://localhost:8080/",
          "height": 55
        },
        "id": "AVd91_rZd92A",
        "outputId": "a9313adf-105e-4679-dfb1-7b8248a41278"
      },
      "execution_count": null,
      "outputs": [
        {
          "output_type": "stream",
          "name": "stdout",
          "text": [
            "<class 'str'>\n"
          ]
        },
        {
          "output_type": "execute_result",
          "data": {
            "text/plain": [
              "'java'"
            ],
            "application/vnd.google.colaboratory.intrinsic+json": {
              "type": "string"
            }
          },
          "metadata": {},
          "execution_count": 16
        }
      ]
    },
    {
      "cell_type": "markdown",
      "source": [
        "multiple assignment\n"
      ],
      "metadata": {
        "id": "m1QBCGA1fXTu"
      }
    },
    {
      "cell_type": "code",
      "source": [
        "x,y,z = 10,20,30\n",
        "print(x)\n",
        "print(y)\n",
        "print(z)"
      ],
      "metadata": {
        "colab": {
          "base_uri": "https://localhost:8080/"
        },
        "id": "wTQPocB6fQ0J",
        "outputId": "4efa1329-38f8-4b3f-a414-1f78c081403f"
      },
      "execution_count": null,
      "outputs": [
        {
          "output_type": "stream",
          "name": "stdout",
          "text": [
            "10\n",
            "20\n",
            "30\n"
          ]
        }
      ]
    },
    {
      "cell_type": "markdown",
      "source": [
        "deleting a variable\n",
        "\n",
        "for code optimizations"
      ],
      "metadata": {
        "id": "jcZuMM42fuP4"
      }
    },
    {
      "cell_type": "code",
      "source": [
        "myVar = 42\n",
        "print(myVar)\n",
        "# del myVar\n",
        "print(myVar)  # will return an error\n",
        "\n"
      ],
      "metadata": {
        "colab": {
          "base_uri": "https://localhost:8080/"
        },
        "id": "qurZ7xAtfwMK",
        "outputId": "98340ed9-68a6-44c7-c1d4-61519a4c74ae"
      },
      "execution_count": null,
      "outputs": [
        {
          "output_type": "stream",
          "name": "stdout",
          "text": [
            "42\n",
            "42\n"
          ]
        }
      ]
    },
    {
      "cell_type": "markdown",
      "source": [
        "The Zen of Python"
      ],
      "metadata": {
        "id": "Kkvi25nQglDF"
      }
    },
    {
      "cell_type": "code",
      "source": [
        "import this"
      ],
      "metadata": {
        "colab": {
          "base_uri": "https://localhost:8080/"
        },
        "id": "PHSsD__NgfLU",
        "outputId": "ce79aeea-3988-4e1c-947c-68fb52685b5a"
      },
      "execution_count": null,
      "outputs": [
        {
          "output_type": "stream",
          "name": "stdout",
          "text": [
            "The Zen of Python, by Tim Peters\n",
            "\n",
            "Beautiful is better than ugly.\n",
            "Explicit is better than implicit.\n",
            "Simple is better than complex.\n",
            "Complex is better than complicated.\n",
            "Flat is better than nested.\n",
            "Sparse is better than dense.\n",
            "Readability counts.\n",
            "Special cases aren't special enough to break the rules.\n",
            "Although practicality beats purity.\n",
            "Errors should never pass silently.\n",
            "Unless explicitly silenced.\n",
            "In the face of ambiguity, refuse the temptation to guess.\n",
            "There should be one-- and preferably only one --obvious way to do it.\n",
            "Although that way may not be obvious at first unless you're Dutch.\n",
            "Now is better than never.\n",
            "Although never is often better than *right* now.\n",
            "If the implementation is hard to explain, it's a bad idea.\n",
            "If the implementation is easy to explain, it may be a good idea.\n",
            "Namespaces are one honking great idea -- let's do more of those!\n"
          ]
        }
      ]
    },
    {
      "cell_type": "code",
      "source": [
        "print(type(43.2))"
      ],
      "metadata": {
        "colab": {
          "base_uri": "https://localhost:8080/"
        },
        "id": "647K6_IggyuQ",
        "outputId": "2fe55d72-7b14-4713-f183-7d86dd7757e1"
      },
      "execution_count": null,
      "outputs": [
        {
          "output_type": "stream",
          "name": "stdout",
          "text": [
            "<class 'float'>\n"
          ]
        }
      ]
    },
    {
      "cell_type": "code",
      "source": [
        "myVar = \"guns n' roses\"\n",
        "print(myVar.title())\n",
        "print(type(myVar))\n",
        "isString = True;\n",
        "print(isString)\n",
        "print(type(isString))"
      ],
      "metadata": {
        "colab": {
          "base_uri": "https://localhost:8080/"
        },
        "id": "AEKz0GUHg19V",
        "outputId": "9748a8c3-8953-417a-b8ea-200dab065568"
      },
      "execution_count": null,
      "outputs": [
        {
          "output_type": "stream",
          "name": "stdout",
          "text": [
            "Guns N' Roses\n",
            "<class 'str'>\n",
            "True\n",
            "<class 'bool'>\n"
          ]
        }
      ]
    },
    {
      "cell_type": "markdown",
      "source": [
        "NoneType - absence of a value\n",
        "\n",
        "\n",
        "Type conversions\n",
        "-implicit\n",
        "-explicit"
      ],
      "metadata": {
        "id": "2HBjL4ibjKJ6"
      }
    },
    {
      "cell_type": "code",
      "source": [
        "x = int(5.6)\n",
        "y = float(\"10\")\n",
        "print(type(x))\n",
        "print(type(y))\n",
        "\n",
        "# automatic/implicit type conversion\n",
        "print(\"Value:\", x+y)\n",
        "print(\"Datatype\", type(x+y))"
      ],
      "metadata": {
        "colab": {
          "base_uri": "https://localhost:8080/"
        },
        "id": "PEWl_CR-ji7Q",
        "outputId": "30d8916c-0cee-4665-ed81-55b1ddda7c41"
      },
      "execution_count": null,
      "outputs": [
        {
          "output_type": "stream",
          "name": "stdout",
          "text": [
            "<class 'int'>\n",
            "<class 'float'>\n",
            "Value: 15.0\n",
            "Datatype <class 'float'>\n"
          ]
        }
      ]
    },
    {
      "cell_type": "code",
      "source": [
        "# syntax of print\n",
        "# print(object(s), sep-separator, end=end, file=file, flush=flush)\n"
      ],
      "metadata": {
        "id": "ajBEnCNHj2zj"
      },
      "execution_count": null,
      "outputs": []
    },
    {
      "cell_type": "code",
      "source": [
        "print('''\n",
        "Used to be frightened of dying\n",
        "Used to think death was the end.\n",
        "That was before.. I'm not scared anymore\n",
        "''')"
      ],
      "metadata": {
        "colab": {
          "base_uri": "https://localhost:8080/"
        },
        "id": "UgtCHiyfp9ho",
        "outputId": "9034985a-96b4-49c5-f530-e30f8d81b3db"
      },
      "execution_count": null,
      "outputs": [
        {
          "output_type": "stream",
          "name": "stdout",
          "text": [
            "\n",
            "Used to be frightened of dying\n",
            "Used to think death was the end.\n",
            "That was before.. I'm not scared anymore\n",
            "\n"
          ]
        }
      ]
    },
    {
      "cell_type": "code",
      "source": [
        "print(\"apple\",\"banana\",\"cherry\")\n",
        "print(\"apple\",\"banana\",\"cherry\", sep=\"->\")"
      ],
      "metadata": {
        "colab": {
          "base_uri": "https://localhost:8080/"
        },
        "id": "z7Y4T-l7qeQ8",
        "outputId": "3b56458d-5ead-49f0-f292-147197d710e4"
      },
      "execution_count": null,
      "outputs": [
        {
          "output_type": "stream",
          "name": "stdout",
          "text": [
            "apple banana cherry\n",
            "apple->banana->cherry\n"
          ]
        }
      ]
    },
    {
      "cell_type": "code",
      "source": [
        "# end operator\n",
        "print(\"Life could be a dream\", end=\"\\n\\n\")\n",
        "print(\"Life could be a dreaaaam!\")"
      ],
      "metadata": {
        "colab": {
          "base_uri": "https://localhost:8080/"
        },
        "id": "tfnjMEZpq11i",
        "outputId": "83db762a-9fd1-4f82-f15c-70fae9b0dc96"
      },
      "execution_count": null,
      "outputs": [
        {
          "output_type": "stream",
          "name": "stdout",
          "text": [
            "Life could be a dream\n",
            "\n",
            "Life could be a dreaaaam!\n"
          ]
        }
      ]
    },
    {
      "cell_type": "code",
      "source": [
        "# formatted strings\n",
        "first = \"Rosetta\"\n",
        "last = \"Stoned\"\n",
        "fullName = f\"{first} {last}\"\n",
        "print(fullName)\n",
        "print(len(fullName))  # length -< passwd strngth\n",
        "\n"
      ],
      "metadata": {
        "colab": {
          "base_uri": "https://localhost:8080/"
        },
        "id": "-I2FeomZrBP1",
        "outputId": "06e62557-b196-42e9-ce28-1bf1eac68b62"
      },
      "execution_count": null,
      "outputs": [
        {
          "output_type": "stream",
          "name": "stdout",
          "text": [
            "Rosetta Stoned\n",
            "14\n"
          ]
        }
      ]
    },
    {
      "cell_type": "code",
      "source": [
        "first = \"Rosetta\"\n",
        "print(first)\n",
        "print(first.find('o'))\n",
        "print(first.replace('s', 'x'))"
      ],
      "metadata": {
        "colab": {
          "base_uri": "https://localhost:8080/"
        },
        "id": "G3r9_0Ii1d7Z",
        "outputId": "4ad5cd7e-5fa6-4eea-c7c1-90928360879f"
      },
      "execution_count": null,
      "outputs": [
        {
          "output_type": "stream",
          "name": "stdout",
          "text": [
            "Rosetta\n",
            "1\n",
            "Roxetta\n"
          ]
        }
      ]
    },
    {
      "cell_type": "code",
      "source": [
        "# input\n",
        "\n",
        "myVar = int(input('Read number... '))\n",
        "print(\"The number is\", myVar)\n",
        "print(type(myVar))"
      ],
      "metadata": {
        "colab": {
          "base_uri": "https://localhost:8080/"
        },
        "id": "ke9tW7OFK6Vs",
        "outputId": "85127959-9a93-4a87-9434-6f505423f655"
      },
      "execution_count": null,
      "outputs": [
        {
          "output_type": "stream",
          "name": "stdout",
          "text": [
            "Read number... 5\n",
            "The number is 5\n",
            "<class 'int'>\n"
          ]
        }
      ]
    },
    {
      "cell_type": "code",
      "source": [
        "a = int(input('Reading num1: '))\n",
        "b = int(input('Reading num2: '))\n",
        "print('Sum = ', (a+b))\n",
        "print('Sub = ', (a-b))\n",
        "print('Prod = ', (a*b))\n",
        "print('Div = ', (a/b))\n",
        "print('a raised to b = ', (a**b))\n",
        "print('floor = ', (a//b))\n",
        "print('modulo = ', (a%b))"
      ],
      "metadata": {
        "colab": {
          "base_uri": "https://localhost:8080/"
        },
        "id": "ToiAEOyTNN9m",
        "outputId": "94361196-5986-460f-ab43-875c14470a2c"
      },
      "execution_count": null,
      "outputs": [
        {
          "output_type": "stream",
          "name": "stdout",
          "text": [
            "Reading num1: 10\n",
            "Reading num2: 2\n",
            "Sum =  12\n",
            "Sub =  8\n",
            "Prod =  20\n",
            "Div =  5.0\n",
            "a raised to b =  100\n",
            "floor =  5\n",
            "modulo =  0\n"
          ]
        }
      ]
    },
    {
      "cell_type": "code",
      "source": [
        "x=2\n",
        "print(x==2)\n",
        "print(\"x =\",x)\n",
        "xTwo = True;\n",
        "xThree = False\n",
        "print(\"x is not two :\", not xTwo)\n",
        "print(\"x is two or three :\",xTwo or xThree)\n",
        "print(\"x is two and three :\",xTwo and xThree)"
      ],
      "metadata": {
        "colab": {
          "base_uri": "https://localhost:8080/"
        },
        "id": "P0BcPmabRNul",
        "outputId": "39e80f03-c686-4036-9073-54923a99f266"
      },
      "execution_count": null,
      "outputs": [
        {
          "output_type": "stream",
          "name": "stdout",
          "text": [
            "True\n",
            "x = 2\n",
            "x is not two : False\n",
            "x is two or three : True\n",
            "x is two and three : False\n"
          ]
        }
      ]
    },
    {
      "cell_type": "code",
      "source": [
        "x=2\n",
        "print(x==2)\n",
        "print(\"x =\",x)\n",
        "xTwo = True;\n",
        "xThree = False\n",
        "print(\"x is not two :\", not xTwo)\n",
        "print(\"x is two or three :\",xTwo or xThree)\n",
        "print(\"x is two and three :\",xTwo and xThree)"
      ],
      "metadata": {
        "id": "I0wTqN2fGns0",
        "outputId": "200aacf2-a5df-4f26-8a9c-ec87f9528049",
        "colab": {
          "base_uri": "https://localhost:8080/"
        }
      },
      "execution_count": null,
      "outputs": [
        {
          "output_type": "stream",
          "name": "stdout",
          "text": [
            "True\n",
            "x = 2\n",
            "x is not two : False\n",
            "x is two or three : True\n",
            "x is two and three : False\n"
          ]
        }
      ]
    },
    {
      "cell_type": "code",
      "source": [
        "score = int(input(\"Reading the score : \"))\n",
        "if score >= 90:\n",
        "  print('A')\n",
        "elif score<90 and score >= 80:\n",
        "  print('B')\n",
        "elif score<80 and score >= 70:\n",
        "  print('C')\n",
        "elif score<70 and score >= 60:\n",
        "  print('D')\n",
        "elif score<60:\n",
        "  print('F')"
      ],
      "metadata": {
        "colab": {
          "base_uri": "https://localhost:8080/",
          "height": 0
        },
        "id": "RJsTHFG-Whoh",
        "outputId": "2a6ca7bb-a224-4844-ffcd-bc815a837752"
      },
      "execution_count": 1,
      "outputs": [
        {
          "output_type": "stream",
          "name": "stdout",
          "text": [
            "Reading the score : 86\n",
            "B\n"
          ]
        }
      ]
    },
    {
      "cell_type": "code",
      "source": [
        "num = int(input(\"Reading the number : \"))\n",
        "if num > 0:\n",
        "  print('positive')\n",
        "elif num == 0:\n",
        "  print('zero')\n",
        "else:\n",
        "  print('negative')"
      ],
      "metadata": {
        "colab": {
          "base_uri": "https://localhost:8080/",
          "height": 0
        },
        "id": "jObb8pXBXMur",
        "outputId": "8ea09b0d-a5f2-4e3c-ac28-ee5dc709e055"
      },
      "execution_count": 2,
      "outputs": [
        {
          "output_type": "stream",
          "name": "stdout",
          "text": [
            "Reading the number : 5\n",
            "positive\n"
          ]
        }
      ]
    },
    {
      "cell_type": "code",
      "source": [
        "fruits = ['apple', 'banana', 'cherry', 'mango']\n",
        "for i in fruits:\n",
        "  print(i)"
      ],
      "metadata": {
        "colab": {
          "base_uri": "https://localhost:8080/",
          "height": 0
        },
        "id": "XSGL6H3LfCya",
        "outputId": "c35f7c67-5a7f-45b5-e897-d5b45eddb5aa"
      },
      "execution_count": 6,
      "outputs": [
        {
          "output_type": "stream",
          "name": "stdout",
          "text": [
            "apple\n",
            "banana\n",
            "cherry\n",
            "mango\n"
          ]
        }
      ]
    },
    {
      "cell_type": "code",
      "source": [
        "values = range(0,4)\n",
        "for i in values:\n",
        "  print(i)"
      ],
      "metadata": {
        "colab": {
          "base_uri": "https://localhost:8080/",
          "height": 0
        },
        "id": "wdnSw08QiK5f",
        "outputId": "766f5709-5205-4a4d-8af2-abb4b2f60130"
      },
      "execution_count": 7,
      "outputs": [
        {
          "output_type": "stream",
          "name": "stdout",
          "text": [
            "0\n",
            "1\n",
            "2\n",
            "3\n"
          ]
        }
      ]
    },
    {
      "cell_type": "markdown",
      "source": [
        "sum of natural numbers up to a given number n"
      ],
      "metadata": {
        "id": "-aHTXDL0l_xJ"
      }
    },
    {
      "cell_type": "code",
      "source": [
        "sum = 0\n",
        "n = int(input(\"Enter the limit : \"))\n",
        "for i in range(1,n+1):\n",
        "  sum += i**2\n",
        "print(sum)"
      ],
      "metadata": {
        "colab": {
          "base_uri": "https://localhost:8080/",
          "height": 0
        },
        "id": "zVGfQHxVly9H",
        "outputId": "922156bb-c5fa-4921-da97-8e780d96d1c7"
      },
      "execution_count": 15,
      "outputs": [
        {
          "output_type": "stream",
          "name": "stdout",
          "text": [
            "Enter the limit : 3\n",
            "14\n"
          ]
        }
      ]
    },
    {
      "cell_type": "markdown",
      "source": [
        "multiplication table"
      ],
      "metadata": {
        "id": "dQl6oOHttJS4"
      }
    },
    {
      "cell_type": "code",
      "source": [
        "n = int(input(\"Enter num : \"))\n",
        "for i in range(1,11):\n",
        "    print(f\"{i} x {n} = {i*n}\")\n"
      ],
      "metadata": {
        "colab": {
          "base_uri": "https://localhost:8080/",
          "height": 0
        },
        "id": "E5SGk0muoJf3",
        "outputId": "40889e9d-a8ec-4a5c-afd9-11993c30c445"
      },
      "execution_count": 18,
      "outputs": [
        {
          "output_type": "stream",
          "name": "stdout",
          "text": [
            "Enter num : 5\n",
            "1 x 5 = 5\n",
            "2 x 5 = 10\n",
            "3 x 5 = 15\n",
            "4 x 5 = 20\n",
            "5 x 5 = 25\n",
            "6 x 5 = 30\n",
            "7 x 5 = 35\n",
            "8 x 5 = 40\n",
            "9 x 5 = 45\n",
            "10 x 5 = 50\n"
          ]
        }
      ]
    },
    {
      "cell_type": "markdown",
      "source": [
        "even numbers from 1 to n\n"
      ],
      "metadata": {
        "id": "nfSOTpGZtHGV"
      }
    },
    {
      "cell_type": "code",
      "source": [
        "n = int(input(\"Enter num : \"))\n",
        "for i in range(1,11):\n",
        "    if i%2 == 0:\n",
        "      print(i)"
      ],
      "metadata": {
        "colab": {
          "base_uri": "https://localhost:8080/",
          "height": 0
        },
        "id": "fS3tHct7pW21",
        "outputId": "16e7249f-6dd7-4736-fb72-a94a40a16d9c"
      },
      "execution_count": 19,
      "outputs": [
        {
          "output_type": "stream",
          "name": "stdout",
          "text": [
            "Enter num : 10\n",
            "2\n",
            "4\n",
            "6\n",
            "8\n",
            "10\n"
          ]
        }
      ]
    },
    {
      "cell_type": "markdown",
      "source": [
        "prime numbers from 1 to n"
      ],
      "metadata": {
        "id": "i3UWUDRrtFlC"
      }
    },
    {
      "cell_type": "code",
      "source": [
        "n = int(input(\"Enter num: \"))\n",
        "for i in range (2, n + 1):\n",
        "    for j in range (2, i):\n",
        "        if i%j == 0:\n",
        "            break\n",
        "        else:\n",
        "            print(i)"
      ],
      "metadata": {
        "colab": {
          "base_uri": "https://localhost:8080/",
          "height": 0
        },
        "id": "X6dwd5mKpxqN",
        "outputId": "c9c38f14-eb4f-4d34-c9fa-f22c1636f16a"
      },
      "execution_count": 39,
      "outputs": [
        {
          "output_type": "stream",
          "name": "stdout",
          "text": [
            "Enter num: 5\n",
            "3\n",
            "5\n",
            "5\n",
            "5\n"
          ]
        }
      ]
    },
    {
      "cell_type": "markdown",
      "source": [
        "Printing the pattern:"
      ],
      "metadata": {
        "id": "G5vad1uPtCEZ"
      }
    },
    {
      "cell_type": "code",
      "source": [
        "n = int(input(\"Enter num: \"))\n",
        "count = 1\n",
        "for i in range (1, n+1):\n",
        "  for j in range (1, i+1):\n",
        "    print(count, end=\" \")\n",
        "  print()\n",
        "  count += 1\n"
      ],
      "metadata": {
        "colab": {
          "base_uri": "https://localhost:8080/",
          "height": 0
        },
        "id": "i3UYO0pNrj9X",
        "outputId": "507b1be6-6b94-4dfc-ca7f-83b639e9ac59"
      },
      "execution_count": 36,
      "outputs": [
        {
          "output_type": "stream",
          "name": "stdout",
          "text": [
            "Enter num: 5\n",
            "1 \n",
            "2 2 \n",
            "3 3 3 \n",
            "4 4 4 4 \n",
            "5 5 5 5 5 \n"
          ]
        }
      ]
    },
    {
      "cell_type": "markdown",
      "source": [
        "while loop"
      ],
      "metadata": {
        "id": "Lgm9THNNt399"
      }
    },
    {
      "cell_type": "code",
      "source": [
        "count = 1\n",
        "\n",
        "while count <= 5:\n",
        "  print(count)\n",
        "  count += 1"
      ],
      "metadata": {
        "colab": {
          "base_uri": "https://localhost:8080/"
        },
        "id": "8jlPJBhUt3aO",
        "outputId": "24c459d2-97c1-4f73-cf50-a0cfee847647"
      },
      "execution_count": 40,
      "outputs": [
        {
          "output_type": "stream",
          "name": "stdout",
          "text": [
            "1\n",
            "2\n",
            "3\n",
            "4\n",
            "5\n"
          ]
        }
      ]
    },
    {
      "cell_type": "markdown",
      "source": [
        "count the number of digits in a number"
      ],
      "metadata": {
        "id": "r0IKIrjoxnZo"
      }
    },
    {
      "cell_type": "code",
      "source": [
        "num = int(input(\"Enter the number : \"))\n",
        "count = 0\n",
        "while num > 0:\n",
        "  count += 1\n",
        "  num //= 10\n",
        "print(count)"
      ],
      "metadata": {
        "colab": {
          "base_uri": "https://localhost:8080/"
        },
        "id": "y_Fm2AbYw4n0",
        "outputId": "0a6c8353-1996-49bf-f110-58a5eafc182e"
      },
      "execution_count": 49,
      "outputs": [
        {
          "output_type": "stream",
          "name": "stdout",
          "text": [
            "Enter the number : 5\n",
            "1\n"
          ]
        }
      ]
    },
    {
      "cell_type": "markdown",
      "source": [
        "python functions"
      ],
      "metadata": {
        "id": "_Uq6vfH27O5v"
      }
    },
    {
      "cell_type": "code",
      "source": [
        "# def function_name(a,b):\n",
        "  # function body\n",
        "  # result = 'new function'\n",
        "  # return result\n",
        "\n",
        "def sum(a,b):\n",
        "  return a+b\n",
        "\n",
        "print(sum(5,9))\n"
      ],
      "metadata": {
        "colab": {
          "base_uri": "https://localhost:8080/"
        },
        "id": "-Ax-WShk7QXC",
        "outputId": "486db7ff-2eff-4324-f1ce-e02a3fe69071"
      },
      "execution_count": 50,
      "outputs": [
        {
          "output_type": "stream",
          "name": "stdout",
          "text": [
            "14\n"
          ]
        }
      ]
    },
    {
      "cell_type": "markdown",
      "source": [
        " **Recursion**"
      ],
      "metadata": {
        "id": "igNLvCz3Uc6G"
      }
    },
    {
      "cell_type": "markdown",
      "source": [
        "Factorial\n"
      ],
      "metadata": {
        "id": "lt6v1CktVFGH"
      }
    },
    {
      "cell_type": "code",
      "source": [
        "def factorial(num):\n",
        "  if num == 0:\n",
        "    return 1\n",
        "  return num*factorial(num-1)\n",
        "\n",
        "print(factorial(5))"
      ],
      "metadata": {
        "colab": {
          "base_uri": "https://localhost:8080/"
        },
        "id": "oWl-xnXbUeod",
        "outputId": "2221182f-464c-4dd3-e2f2-5026df3e639a"
      },
      "execution_count": 52,
      "outputs": [
        {
          "output_type": "stream",
          "name": "stdout",
          "text": [
            "120\n"
          ]
        }
      ]
    },
    {
      "cell_type": "code",
      "source": [
        "def greet():\n",
        "  msg = 'hello'\n",
        "  print('loc',msg)\n",
        "\n",
        "greet()\n",
        "# print('glob',msg)"
      ],
      "metadata": {
        "colab": {
          "base_uri": "https://localhost:8080/"
        },
        "id": "ih0mulSDZglc",
        "outputId": "e80afe7f-b190-4e96-a8b8-32a23701dd3e"
      },
      "execution_count": 56,
      "outputs": [
        {
          "output_type": "stream",
          "name": "stdout",
          "text": [
            "loc hello\n"
          ]
        }
      ]
    },
    {
      "cell_type": "markdown",
      "source": [
        "non local variables\n",
        "  (not local to that particular function, yet not global)"
      ],
      "metadata": {
        "id": "iRFhEV-8bY8W"
      }
    },
    {
      "cell_type": "code",
      "source": [],
      "metadata": {
        "id": "tuq7w3q6bYko"
      },
      "execution_count": null,
      "outputs": []
    }
  ]
}