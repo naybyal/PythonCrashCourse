{
  "nbformat": 4,
  "nbformat_minor": 0,
  "metadata": {
    "colab": {
      "provenance": [],
      "gpuType": "T4",
      "authorship_tag": "ABX9TyNhJbPHxKW3c5EPcb7htNTo",
      "include_colab_link": true
    },
    "kernelspec": {
      "name": "python3",
      "display_name": "Python 3"
    },
    "language_info": {
      "name": "python"
    }
  },
  "cells": [
    {
      "cell_type": "markdown",
      "metadata": {
        "id": "view-in-github",
        "colab_type": "text"
      },
      "source": [
        "<a href=\"https://colab.research.google.com/github/naybyal/PythonCrashCourse/blob/main/PythonCrash.ipynb\" target=\"_parent\"><img src=\"https://colab.research.google.com/assets/colab-badge.svg\" alt=\"Open In Colab\"/></a>"
      ]
    },
    {
      "cell_type": "code",
      "execution_count": null,
      "metadata": {
        "colab": {
          "base_uri": "https://localhost:8080/"
        },
        "id": "BXi9QMUNZBH-",
        "outputId": "dfc56466-009c-4a19-efc7-0d61faac10ff"
      },
      "outputs": [
        {
          "output_type": "stream",
          "name": "stdout",
          "text": [
            "\n",
            "Here is a list of the Python keywords.  Enter any keyword to get more help.\n",
            "\n",
            "False               class               from                or\n",
            "None                continue            global              pass\n",
            "True                def                 if                  raise\n",
            "and                 del                 import              return\n",
            "as                  elif                in                  try\n",
            "assert              else                is                  while\n",
            "async               except              lambda              with\n",
            "await               finally             nonlocal            yield\n",
            "break               for                 not                 \n",
            "\n"
          ]
        }
      ],
      "source": [
        "help(\"keywords\")"
      ]
    },
    {
      "cell_type": "code",
      "source": [
        "firstName = \"ada\"\n",
        "lastName = \"lovelace\"\n",
        "fullName = f\"{firstName}\\n{lastName}\"\n",
        "print(fullName.title())"
      ],
      "metadata": {
        "colab": {
          "base_uri": "https://localhost:8080/"
        },
        "id": "AmHjLCq5ZQ2k",
        "outputId": "96459447-32a4-4ab3-8b81-ef40cacb1242"
      },
      "execution_count": null,
      "outputs": [
        {
          "output_type": "stream",
          "name": "stdout",
          "text": [
            "Ada\n",
            "Lovelace\n"
          ]
        }
      ]
    },
    {
      "cell_type": "markdown",
      "source": [
        "stripping whitespace"
      ],
      "metadata": {
        "id": "T4CPq7bDd-50"
      }
    },
    {
      "cell_type": "code",
      "source": [
        "favoriteLanguage = \" java \"\n",
        "print(type(favoriteLanguage))\n",
        "# favoriteLanguage.rstrip()\n",
        "# favoriteLanguage.lstrip().rstrip()\n",
        "# this is similar to\n",
        "favoriteLanguage.strip()"
      ],
      "metadata": {
        "colab": {
          "base_uri": "https://localhost:8080/",
          "height": 55
        },
        "id": "AVd91_rZd92A",
        "outputId": "a9313adf-105e-4679-dfb1-7b8248a41278"
      },
      "execution_count": null,
      "outputs": [
        {
          "output_type": "stream",
          "name": "stdout",
          "text": [
            "<class 'str'>\n"
          ]
        },
        {
          "output_type": "execute_result",
          "data": {
            "text/plain": [
              "'java'"
            ],
            "application/vnd.google.colaboratory.intrinsic+json": {
              "type": "string"
            }
          },
          "metadata": {},
          "execution_count": 16
        }
      ]
    },
    {
      "cell_type": "markdown",
      "source": [
        "multiple assignment\n"
      ],
      "metadata": {
        "id": "m1QBCGA1fXTu"
      }
    },
    {
      "cell_type": "code",
      "source": [
        "x,y,z = 10,20,30\n",
        "print(x)\n",
        "print(y)\n",
        "print(z)"
      ],
      "metadata": {
        "colab": {
          "base_uri": "https://localhost:8080/"
        },
        "id": "wTQPocB6fQ0J",
        "outputId": "4efa1329-38f8-4b3f-a414-1f78c081403f"
      },
      "execution_count": null,
      "outputs": [
        {
          "output_type": "stream",
          "name": "stdout",
          "text": [
            "10\n",
            "20\n",
            "30\n"
          ]
        }
      ]
    },
    {
      "cell_type": "markdown",
      "source": [
        "deleting a variable\n",
        "\n",
        "for code optimizations"
      ],
      "metadata": {
        "id": "jcZuMM42fuP4"
      }
    },
    {
      "cell_type": "code",
      "source": [
        "myVar = 42\n",
        "print(myVar)\n",
        "# del myVar\n",
        "print(myVar)  # will return an error\n",
        "\n"
      ],
      "metadata": {
        "colab": {
          "base_uri": "https://localhost:8080/"
        },
        "id": "qurZ7xAtfwMK",
        "outputId": "98340ed9-68a6-44c7-c1d4-61519a4c74ae"
      },
      "execution_count": null,
      "outputs": [
        {
          "output_type": "stream",
          "name": "stdout",
          "text": [
            "42\n",
            "42\n"
          ]
        }
      ]
    },
    {
      "cell_type": "markdown",
      "source": [
        "The Zen of Python"
      ],
      "metadata": {
        "id": "Kkvi25nQglDF"
      }
    },
    {
      "cell_type": "code",
      "source": [
        "import this"
      ],
      "metadata": {
        "colab": {
          "base_uri": "https://localhost:8080/"
        },
        "id": "PHSsD__NgfLU",
        "outputId": "ce79aeea-3988-4e1c-947c-68fb52685b5a"
      },
      "execution_count": null,
      "outputs": [
        {
          "output_type": "stream",
          "name": "stdout",
          "text": [
            "The Zen of Python, by Tim Peters\n",
            "\n",
            "Beautiful is better than ugly.\n",
            "Explicit is better than implicit.\n",
            "Simple is better than complex.\n",
            "Complex is better than complicated.\n",
            "Flat is better than nested.\n",
            "Sparse is better than dense.\n",
            "Readability counts.\n",
            "Special cases aren't special enough to break the rules.\n",
            "Although practicality beats purity.\n",
            "Errors should never pass silently.\n",
            "Unless explicitly silenced.\n",
            "In the face of ambiguity, refuse the temptation to guess.\n",
            "There should be one-- and preferably only one --obvious way to do it.\n",
            "Although that way may not be obvious at first unless you're Dutch.\n",
            "Now is better than never.\n",
            "Although never is often better than *right* now.\n",
            "If the implementation is hard to explain, it's a bad idea.\n",
            "If the implementation is easy to explain, it may be a good idea.\n",
            "Namespaces are one honking great idea -- let's do more of those!\n"
          ]
        }
      ]
    },
    {
      "cell_type": "code",
      "source": [
        "print(type(43.2))"
      ],
      "metadata": {
        "colab": {
          "base_uri": "https://localhost:8080/"
        },
        "id": "647K6_IggyuQ",
        "outputId": "2fe55d72-7b14-4713-f183-7d86dd7757e1"
      },
      "execution_count": null,
      "outputs": [
        {
          "output_type": "stream",
          "name": "stdout",
          "text": [
            "<class 'float'>\n"
          ]
        }
      ]
    },
    {
      "cell_type": "code",
      "source": [
        "myVar = \"guns n' roses\"\n",
        "print(myVar.title())\n",
        "print(type(myVar))\n",
        "isString = True;\n",
        "print(isString)\n",
        "print(type(isString))"
      ],
      "metadata": {
        "colab": {
          "base_uri": "https://localhost:8080/"
        },
        "id": "AEKz0GUHg19V",
        "outputId": "9748a8c3-8953-417a-b8ea-200dab065568"
      },
      "execution_count": null,
      "outputs": [
        {
          "output_type": "stream",
          "name": "stdout",
          "text": [
            "Guns N' Roses\n",
            "<class 'str'>\n",
            "True\n",
            "<class 'bool'>\n"
          ]
        }
      ]
    },
    {
      "cell_type": "markdown",
      "source": [
        "NoneType - absence of a value\n",
        "\n",
        "\n",
        "Type conversions\n",
        "-implicit\n",
        "-explicit"
      ],
      "metadata": {
        "id": "2HBjL4ibjKJ6"
      }
    },
    {
      "cell_type": "code",
      "source": [
        "x = int(5.6)\n",
        "y = float(\"10\")\n",
        "print(type(x))\n",
        "print(type(y))\n",
        "\n",
        "# automatic/implicit type conversion\n",
        "print(\"Value:\", x+y)\n",
        "print(\"Datatype\", type(x+y))"
      ],
      "metadata": {
        "colab": {
          "base_uri": "https://localhost:8080/"
        },
        "id": "PEWl_CR-ji7Q",
        "outputId": "30d8916c-0cee-4665-ed81-55b1ddda7c41"
      },
      "execution_count": null,
      "outputs": [
        {
          "output_type": "stream",
          "name": "stdout",
          "text": [
            "<class 'int'>\n",
            "<class 'float'>\n",
            "Value: 15.0\n",
            "Datatype <class 'float'>\n"
          ]
        }
      ]
    },
    {
      "cell_type": "code",
      "source": [
        "# syntax of print\n",
        "# print(object(s), sep-separator, end=end, file=file, flush=flush)\n"
      ],
      "metadata": {
        "id": "ajBEnCNHj2zj"
      },
      "execution_count": null,
      "outputs": []
    },
    {
      "cell_type": "code",
      "source": [
        "print('''\n",
        "Used to be frightened of dying\n",
        "Used to think death was the end.\n",
        "That was before.. I'm not scared anymore\n",
        "''')"
      ],
      "metadata": {
        "colab": {
          "base_uri": "https://localhost:8080/"
        },
        "id": "UgtCHiyfp9ho",
        "outputId": "9034985a-96b4-49c5-f530-e30f8d81b3db"
      },
      "execution_count": null,
      "outputs": [
        {
          "output_type": "stream",
          "name": "stdout",
          "text": [
            "\n",
            "Used to be frightened of dying\n",
            "Used to think death was the end.\n",
            "That was before.. I'm not scared anymore\n",
            "\n"
          ]
        }
      ]
    },
    {
      "cell_type": "code",
      "source": [
        "print(\"apple\",\"banana\",\"cherry\")\n",
        "print(\"apple\",\"banana\",\"cherry\", sep=\"->\")"
      ],
      "metadata": {
        "colab": {
          "base_uri": "https://localhost:8080/"
        },
        "id": "z7Y4T-l7qeQ8",
        "outputId": "3b56458d-5ead-49f0-f292-147197d710e4"
      },
      "execution_count": null,
      "outputs": [
        {
          "output_type": "stream",
          "name": "stdout",
          "text": [
            "apple banana cherry\n",
            "apple->banana->cherry\n"
          ]
        }
      ]
    },
    {
      "cell_type": "code",
      "source": [
        "# end operator\n",
        "print(\"Life could be a dream\", end=\"\\n\\n\")\n",
        "print(\"Life could be a dreaaaam!\")"
      ],
      "metadata": {
        "colab": {
          "base_uri": "https://localhost:8080/"
        },
        "id": "tfnjMEZpq11i",
        "outputId": "83db762a-9fd1-4f82-f15c-70fae9b0dc96"
      },
      "execution_count": null,
      "outputs": [
        {
          "output_type": "stream",
          "name": "stdout",
          "text": [
            "Life could be a dream\n",
            "\n",
            "Life could be a dreaaaam!\n"
          ]
        }
      ]
    },
    {
      "cell_type": "code",
      "source": [
        "# formatted strings\n",
        "first = \"Rosetta\"\n",
        "last = \"Stoned\"\n",
        "fullName = f\"{first} {last}\"\n",
        "print(fullName)\n",
        "print(len(fullName))  # length -< passwd strngth\n",
        "\n"
      ],
      "metadata": {
        "colab": {
          "base_uri": "https://localhost:8080/"
        },
        "id": "-I2FeomZrBP1",
        "outputId": "06e62557-b196-42e9-ce28-1bf1eac68b62"
      },
      "execution_count": null,
      "outputs": [
        {
          "output_type": "stream",
          "name": "stdout",
          "text": [
            "Rosetta Stoned\n",
            "14\n"
          ]
        }
      ]
    },
    {
      "cell_type": "code",
      "source": [
        "first = \"Rosetta\"\n",
        "print(first)\n",
        "print(first.find('o'))\n",
        "print(first.replace('s', 'x'))"
      ],
      "metadata": {
        "colab": {
          "base_uri": "https://localhost:8080/"
        },
        "id": "G3r9_0Ii1d7Z",
        "outputId": "4ad5cd7e-5fa6-4eea-c7c1-90928360879f"
      },
      "execution_count": null,
      "outputs": [
        {
          "output_type": "stream",
          "name": "stdout",
          "text": [
            "Rosetta\n",
            "1\n",
            "Roxetta\n"
          ]
        }
      ]
    },
    {
      "cell_type": "code",
      "source": [
        "# input\n",
        "\n",
        "myVar = int(input('Read number... '))\n",
        "print(\"The number is\", myVar)\n",
        "print(type(myVar))"
      ],
      "metadata": {
        "colab": {
          "base_uri": "https://localhost:8080/"
        },
        "id": "ke9tW7OFK6Vs",
        "outputId": "85127959-9a93-4a87-9434-6f505423f655"
      },
      "execution_count": null,
      "outputs": [
        {
          "output_type": "stream",
          "name": "stdout",
          "text": [
            "Read number... 5\n",
            "The number is 5\n",
            "<class 'int'>\n"
          ]
        }
      ]
    },
    {
      "cell_type": "code",
      "source": [
        "a = int(input('Reading num1: '))\n",
        "b = int(input('Reading num2: '))\n",
        "print('Sum = ', (a+b))\n",
        "print('Sub = ', (a-b))\n",
        "print('Prod = ', (a*b))\n",
        "print('Div = ', (a/b))\n",
        "print('a raised to b = ', (a**b))\n",
        "print('floor = ', (a//b))\n",
        "print('modulo = ', (a%b))"
      ],
      "metadata": {
        "colab": {
          "base_uri": "https://localhost:8080/"
        },
        "id": "ToiAEOyTNN9m",
        "outputId": "94361196-5986-460f-ab43-875c14470a2c"
      },
      "execution_count": null,
      "outputs": [
        {
          "output_type": "stream",
          "name": "stdout",
          "text": [
            "Reading num1: 10\n",
            "Reading num2: 2\n",
            "Sum =  12\n",
            "Sub =  8\n",
            "Prod =  20\n",
            "Div =  5.0\n",
            "a raised to b =  100\n",
            "floor =  5\n",
            "modulo =  0\n"
          ]
        }
      ]
    },
    {
      "cell_type": "code",
      "source": [
        "x=2\n",
        "print(x==2)\n",
        "print(\"x =\",x)\n",
        "xTwo = True;\n",
        "xThree = False\n",
        "print(\"x is not two :\", not xTwo)\n",
        "print(\"x is two or three :\",xTwo or xThree)\n",
        "print(\"x is two and three :\",xTwo and xThree)"
      ],
      "metadata": {
        "colab": {
          "base_uri": "https://localhost:8080/"
        },
        "id": "P0BcPmabRNul",
        "outputId": "39e80f03-c686-4036-9073-54923a99f266"
      },
      "execution_count": null,
      "outputs": [
        {
          "output_type": "stream",
          "name": "stdout",
          "text": [
            "True\n",
            "x = 2\n",
            "x is not two : False\n",
            "x is two or three : True\n",
            "x is two and three : False\n"
          ]
        }
      ]
    },
    {
      "cell_type": "code",
      "source": [
        "score = int(input(\"Reading the score : \"))\n",
        "if score >= 90:\n",
        "  print('A')\n",
        "elif score<90 and score >= 80:\n",
        "  print('B')\n",
        "elif score<80 and score >= 70:\n",
        "  print('C')\n",
        "elif score<70 and score >= 60:\n",
        "  print('D')\n",
        "elif score<60:\n",
        "  print('F')"
      ],
      "metadata": {
        "colab": {
          "base_uri": "https://localhost:8080/"
        },
        "id": "RJsTHFG-Whoh",
        "outputId": "2fb96cfa-bfd3-46bc-d4a9-089411d8383d"
      },
      "execution_count": null,
      "outputs": [
        {
          "output_type": "stream",
          "name": "stdout",
          "text": [
            "Reading the number : 0\n",
            "zero\n"
          ]
        }
      ]
    },
    {
      "cell_type": "code",
      "source": [
        "num = int(input(\"Reading the number : \"))\n",
        "if num > 0:\n",
        "  print('positive')\n",
        "elif num==0:\n",
        "  print('zero')\n",
        "else:\n",
        "  print('negative')\n"
      ],
      "metadata": {
        "colab": {
          "base_uri": "https://localhost:8080/"
        },
        "id": "jObb8pXBXMur",
        "outputId": "cd421f1e-d484-462f-9df0-943b17d44fb9"
      },
      "execution_count": null,
      "outputs": [
        {
          "output_type": "stream",
          "name": "stdout",
          "text": [
            "Reading the number : 5\n",
            "positive\n"
          ]
        }
      ]
    }
  ]
}